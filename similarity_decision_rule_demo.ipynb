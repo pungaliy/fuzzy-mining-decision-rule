{
 "cells": [
  {
   "cell_type": "markdown",
   "metadata": {},
   "source": [
    "### Demo for using fuzzy-mining\n",
    "#### created by Shray Pungaliya (forked from Fanqing Xu), supervised by Mohammad Reza Rajati"
   ]
  },
  {
   "cell_type": "code",
   "execution_count": 1,
   "metadata": {},
   "outputs": [
    {
     "name": "stderr",
     "output_type": "stream",
     "text": [
      "/Users/shray/.pyenv/versions/3.8.2/lib/python3.8/site-packages/pandas/compat/__init__.py:120: UserWarning: Could not import the lzma module. Your installed Python is incomplete. Attempting to use lzma compression will result in a RuntimeError.\n",
      "  warnings.warn(msg)\n"
     ]
    }
   ],
   "source": [
    "import fuzzy_mining as fm### Demo for using fuzzy-mining\n",
    "import pandas as pd\n",
    "from sklearn.model_selection import train_test_split\n",
    "from skfuzzy import control as ctrl\n",
    "import skfuzzy as fuzz\n",
    "from skfuzzy import fuzzy_sub\n",
    "# %matplotlib inline\n",
    "import matplotlib.pyplot as plt\n",
    "from collections import defaultdict\n",
    "from dataclasses import dataclass\n",
    "import numpy as np\n",
    "\n",
    "import sys, importlib\n",
    "importlib.reload(sys.modules['fuzzy_mining'])\n",
    "import fuzzy_mining as fm"
   ]
  },
  {
   "cell_type": "code",
   "execution_count": 2,
   "metadata": {},
   "outputs": [],
   "source": [
    "# import dataset as pandas dataframe\n",
    "# we use a simple regression problem dataset for example:\n",
    "# https://archive.ics.uci.edu/ml/datasets/concrete+compressive+strength\n",
    "dataset = pd.read_excel('./data/Concrete_Data.xls')"
   ]
  },
  {
   "cell_type": "code",
   "execution_count": 3,
   "metadata": {},
   "outputs": [],
   "source": [
    "# split the dataset into training/test set as you like\n",
    "X_train, X_test = train_test_split(dataset, test_size=0.3, random_state=0)\n",
    "# specify the names for Antecedents and Consequent\n",
    "column_names = [\"cement\", \"slag\", \"ash\", \"water\", \"superplasticizer\", \"coarse_aggregate\", \"fine_aggregate\", \"age\", \"strength\"]"
   ]
  },
  {
   "cell_type": "code",
   "execution_count": 4,
   "metadata": {},
   "outputs": [],
   "source": [
    "# create the Fuzzy Object using training dataset and names\n",
    "concrete = fm.FuzzyObj(X_train, column_names)"
   ]
  },
  {
   "cell_type": "code",
   "execution_count": 5,
   "metadata": {},
   "outputs": [
    {
     "name": "stdout",
     "output_type": "stream",
     "text": [
      "Fuzzy variables are created with 8 Antecedents and 1 Consequent:\n",
      "[Antecedent: cement, Antecedent: slag, Antecedent: ash, Antecedent: water, Antecedent: superplasticizer, Antecedent: coarse_aggregate, Antecedent: fine_aggregate, Antecedent: age, Consequent: strength]\n"
     ]
    }
   ],
   "source": [
    "# define the range of each component\n",
    "concrete.create_fuzzy_variables()"
   ]
  },
  {
   "cell_type": "code",
   "execution_count": 6,
   "metadata": {},
   "outputs": [
    {
     "name": "stdout",
     "output_type": "stream",
     "text": [
      "Fuzzification is done. View membership function using .view(name, region):\n",
      "Regions are: ['low', 'medium', 'high']\n",
      "Preview of Consequent y:\n",
      "\n"
     ]
    },
    {
     "name": "stderr",
     "output_type": "stream",
     "text": [
      "/Users/shray/.pyenv/versions/3.8.2/lib/python3.8/site-packages/skfuzzy/control/fuzzyvariable.py:122: UserWarning: Matplotlib is currently using module://ipykernel.pylab.backend_inline, which is a non-GUI backend, so cannot show the figure.\n",
      "  fig.show()\n"
     ]
    },
    {
     "data": {
      "image/png": "[encoded data removed]",
      "text/plain": [
       "<Figure size 432x288 with 1 Axes>"
      ]
     },
     "metadata": {
      "needs_background": "light"
     },
     "output_type": "display_data"
    }
   ],
   "source": [
    "# fuzzify each component\n",
    "# for now, only auto_fuzzify is supported and recommmended\n",
    "# you can view the fuzzy region for each component\n",
    "region_names = ['low', 'medium', 'high']\n",
    "regionNameLen = len(region_names)\n",
    "concrete.auto_fuzzify(region_names)"
   ]
  },
  {
   "cell_type": "code",
   "execution_count": 7,
   "metadata": {},
   "outputs": [
    {
     "name": "stdout",
     "output_type": "stream",
     "text": [
      "137 unique rules(groups) are found.\n"
     ]
    }
   ],
   "source": [
    "# extract the rules from training data\n",
    "# group the rules with same IF part together\n",
    "concrete.extract()"
   ]
  },
  {
   "cell_type": "code",
   "execution_count": 8,
   "metadata": {},
   "outputs": [
    {
     "name": "stdout",
     "output_type": "stream",
     "text": [
      "137 final rules are built.\n"
     ]
    }
   ],
   "source": [
    "# for each group, resolve the conflicting rules\n",
    "# accepted method arguments are: 'random', 'majority', 'ranked', 'WMcomplete', 'semiavg'\n",
    "concrete.resolve_conflict(method='majority')"
   ]
  },
  {
   "cell_type": "code",
   "execution_count": 9,
   "metadata": {},
   "outputs": [
    {
     "name": "stdout",
     "output_type": "stream",
     "text": [
      "['low', 'medium', 'low', 'medium', 'low', 'low', 'low', 'low', 'low']\n",
      "9 extra rules are added after interpolation.\n"
     ]
    }
   ],
   "source": [
    "# for extra dataset, like test data, there may no exist exact matched rules in rule base.\n",
    "# we have to interpolate the rule base to make it work.\n",
    "# accepted metric arguements are: 'Jaccard', 'plain' (for now, only nearest neigbhor method)\n",
    "concrete.interp_rules(X_test, method='Jaccard')"
   ]
  },
  {
   "cell_type": "code",
   "execution_count": 10,
   "metadata": {},
   "outputs": [
    {
     "data": {
      "text/plain": [
       "['medium',\n",
       " 'medium',\n",
       " 'low',\n",
       " 'medium',\n",
       " 'medium',\n",
       " 'high',\n",
       " 'medium',\n",
       " 'medium',\n",
       " 'medium']"
      ]
     },
     "execution_count": 10,
     "metadata": {},
     "output_type": "execute_result"
    }
   ],
   "source": [
    "# you can check how interpolated rules are like\n",
    "# each rule is in shape: [x1, x2, ..., y]\n",
    "concrete.extra_rules[0]"
   ]
  },
  {
   "cell_type": "code",
   "execution_count": 11,
   "metadata": {},
   "outputs": [
    {
     "data": {
      "text/plain": [
       "['medium', 'low', 'low', 'medium', 'low', 'medium', 'medium', 'low', 'medium']"
      ]
     },
     "execution_count": 11,
     "metadata": {},
     "output_type": "execute_result"
    }
   ],
   "source": [
    "# you can also check how original rule base is like (which extract only from training dataset)\n",
    "concrete.rule_base[0]"
   ]
  },
  {
   "cell_type": "code",
   "execution_count": 12,
   "metadata": {},
   "outputs": [
    {
     "data": {
      "text/plain": [
       "(<Figure size 432x288 with 1 Axes>, <AxesSubplot:>)"
      ]
     },
     "execution_count": 12,
     "metadata": {},
     "output_type": "execute_result"
    },
    {
     "data": {
      "image/png": "[encoded data removed]",
      "text/plain": [
       "<Figure size 432x288 with 1 Axes>"
      ]
     },
     "metadata": {},
     "output_type": "display_data"
    }
   ],
   "source": [
    "'''\n",
    "This part can't be integrate into the package, which needs to be explicitly written, for now.\n",
    "The main purpose is to use rule base and extra rules we have obtained to construct the Rule objects,\n",
    "which is a must in scikit-fuzzy package.\n",
    "'''\n",
    "\n",
    "# .Rule() method also accepts Term\n",
    "rules = []\n",
    "ant_con = concrete.list_obj\n",
    "for r in concrete.rule_base:\n",
    "    rules.append(ctrl.Rule(ant_con[0][r[0]] & ant_con[1][r[1]] & ant_con[2][r[2]]\n",
    "                  & ant_con[3][r[3]] & ant_con[4][r[4]] & ant_con[5][r[5]] \n",
    "                  & ant_con[6][r[6]] & ant_con[7][r[7]], ant_con[8][r[8]]))\n",
    "# add extra interpolated rules\n",
    "for r in concrete.extra_rules:\n",
    "    rules.append(ctrl.Rule(ant_con[0][r[0]] & ant_con[1][r[1]] & ant_con[2][r[2]]\n",
    "                  & ant_con[3][r[3]] & ant_con[4][r[4]] & ant_con[5][r[5]] \n",
    "                  & ant_con[6][r[6]] & ant_con[7][r[7]], ant_con[8][r[8]]))\n",
    "# you can check a visualization of rule by .view() \n",
    "# (porvided by scikit-fuzzy, showing some relation between components)\n",
    "rules[0].view()"
   ]
  },
  {
   "cell_type": "code",
   "execution_count": 13,
   "metadata": {},
   "outputs": [
    {
     "name": "stdout",
     "output_type": "stream",
     "text": [
      "This will take a fairly long time, caused by graph creating process which is used in scikit-fuzzy package.\n",
      "\n",
      "Done. Time used to build fuzzy system: 29.138432 sec.\n"
     ]
    }
   ],
   "source": [
    "# now, we can build the fuzzy system using Rules obtained above\n",
    "# this will take some time\n",
    "concrete.build_system(rules)"
   ]
  },
  {
   "cell_type": "code",
   "execution_count": 14,
   "metadata": {},
   "outputs": [
    {
     "name": "stdout",
     "output_type": "stream",
     "text": [
      "{'low': 'medium', 'medium': 'high', 'high': 'high'}\n",
      "Retrieving saved fuzzy subtraction results\n"
     ]
    }
   ],
   "source": [
    "# Work by Shray Pungaliya (pungaliy) from this point forward. Unfortunately, Concrete data set is way too large to\n",
    "# do the necessary computations for similarity decision rules, so this program just hangs. Using a smaller data set\n",
    "# or finding points at which the program can be made more efficient is the only way to make this work well.\n",
    "\n",
    "fuzzyObject = concrete\n",
    "U = 1\n",
    "dataset_name = 'concrete'\n",
    "transitionPairs = fuzzyObject.getDefaultTransitionPairs()\n",
    "print(transitionPairs)\n",
    "# This part is expensive because fuzzy subtraction is very slow; \n",
    "# However, the method creates and saves a pickle file so it doesn't recompute the same thing each time\n",
    "delta_u_consequent = fuzzyObject.genSubtractionConsequent(column_names[U], transitionPairs, dataset_name)"
   ]
  },
  {
   "cell_type": "code",
   "execution_count": 15,
   "metadata": {},
   "outputs": [
    {
     "name": "stdout",
     "output_type": "stream",
     "text": [
      "['low', 'medium', 'low', 'medium', 'low', 'medium', 'low', 'low', 'low']\n",
      "['medium', 'medium', 'low', 'medium', 'low', 'medium', 'medium', 'low', 'low']\n",
      "['medium', 'medium', 'low', 'medium', 'low', 'high', 'medium', 'low', 'low']\n",
      "['medium', 'medium', 'medium', 'medium', 'medium', 'low', 'medium', 'low', 'medium']\n",
      "['high', 'medium', 'low', 'medium', 'medium', 'medium', 'medium', 'low', 'medium']\n",
      "['high', 'low', 'low', 'medium', 'medium', 'low', 'medium', 'low', 'medium']\n",
      "['high', 'medium', 'low', 'medium', 'medium', 'low', 'medium', 'low', 'high']\n",
      "['medium', 'medium', 'low', 'low', 'medium', 'medium', 'medium', 'low', 'high']\n",
      "['high', 'medium', 'low', 'low', 'high', 'low', 'medium', 'low', 'high']\n",
      "['medium', 'low', 'medium', 'low', 'medium', 'high', 'medium', 'medium', 'high']\n",
      "['high', 'low', 'low', 'low', 'low', 'medium', 'medium', 'low', 'high']\n",
      "['high', 'low', 'low', 'medium', 'low', 'medium', 'low', 'low', 'high']\n",
      "['high', 'low', 'low', 'medium', 'low', 'high', 'low', 'medium', 'high']\n",
      "['high', 'low', 'low', 'low', 'medium', 'medium', 'low', 'low', 'high']\n",
      "['medium', 'low', 'medium', 'medium', 'medium', 'low', 'medium', 'low', 'high']\n",
      "['high', 'low', 'low', 'low', 'low', 'high', 'medium', 'low', 'high']\n",
      "['medium', 'medium', 'low', 'medium', 'low', 'low', 'medium', 'low', 'high']\n",
      "['medium', 'medium', 'low', 'low', 'low', 'high', 'medium', 'low', 'high']\n",
      "['high', 'low', 'low', 'medium', 'medium', 'medium', 'medium', 'low', 'high']\n",
      "Jaccard similarities for 3805 rules\n"
     ]
    },
    {
     "data": {
      "image/png": "[encoded data removed]",
      "text/plain": [
       "<Figure size 432x288 with 1 Axes>"
      ]
     },
     "metadata": {
      "needs_background": "light"
     },
     "output_type": "display_data"
    },
    {
     "name": "stdout",
     "output_type": "stream",
     "text": [
      "Maximum values of trapezoidal mf for 3805 rules\n"
     ]
    },
    {
     "data": {
      "image/png": "[encoded data removed]",
      "text/plain": [
       "<Figure size 432x288 with 1 Axes>"
      ]
     },
     "metadata": {
      "needs_background": "light"
     },
     "output_type": "display_data"
    },
    {
     "name": "stdout",
     "output_type": "stream",
     "text": [
      "Threshold set at 0.99, so only 38 rules placed in control system\n"
     ]
    }
   ],
   "source": [
    "# A local machine may not be able to handle this if the threshold is too low, but a low threshold is necessary\n",
    "# In fact, the only reason to use a higher threshold I found was for testing purposes. Please avoid using it\n",
    "# Note that a high threshold will yield results leading to a mean change of 0\n",
    "similarityDecisionControlSystem = fuzzyObject.generateSimilarityDecisionControlSystem(transitionPairs, U, delta_u_consequent, threshold=0.99)"
   ]
  },
  {
   "cell_type": "code",
   "execution_count": 16,
   "metadata": {},
   "outputs": [],
   "source": [
    "from sklearn.neural_network import MLPRegressor\n",
    "# separate label from X_train using above\n",
    "train_X = X_train.loc[:,X_train.columns[0:len(ant_con)-1]].to_numpy()\n",
    "train_y = X_train.loc[:,X_train.columns[-1]].to_numpy()\n",
    "test_X = X_test.loc[:,X_test.columns[0:len(ant_con)-1]].to_numpy()\n",
    "test_y = X_test.loc[:,X_test.columns[-1]].to_numpy()\n",
    "\n",
    "regr = MLPRegressor(hidden_layer_sizes=(50,), max_iter=500, random_state=0)\n",
    "\n",
    "regr.fit(train_X, train_y)\n",
    "\n",
    "\n",
    "\n",
    "decisionControlSystem = similarityDecisionControlSystem\n",
    "# train\n",
    "new_train_X = fuzzyObject.generateNewX(train_X, decisionControlSystem, U)\n",
    "new_train_y = regr.predict(new_train_X)\n",
    "train_delta_ys = np.subtract(new_train_y, train_y)\n",
    "\n",
    "# test\n",
    "new_test_X = fuzzyObject.generateNewX(test_X, decisionControlSystem, U)\n",
    "new_test_y = regr.predict(new_test_X)\n",
    "test_delta_ys = np.subtract(new_test_y, test_y)\n"
   ]
  },
  {
   "cell_type": "code",
   "execution_count": 17,
   "metadata": {},
   "outputs": [
    {
     "name": "stdout",
     "output_type": "stream",
     "text": [
      "Decision variable: slag\n",
      "train_delta_ys\n",
      "DescribeResult(nobs=721, minmax=(-26.537098473107605, 32.692270407649374), mean=4.296445545500368, variance=81.63556325886952, skewness=-0.0063795945883896475, kurtosis=0.07107595087114227)\n"
     ]
    },
    {
     "data": {
      "image/png": "[encoded data removed]",
      "text/plain": [
       "<Figure size 432x288 with 1 Axes>"
      ]
     },
     "metadata": {
      "needs_background": "light"
     },
     "output_type": "display_data"
    },
    {
     "name": "stdout",
     "output_type": "stream",
     "text": [
      "test_delta_ys\n",
      "DescribeResult(nobs=309, minmax=(-21.914546137054458, 35.21790590199028), mean=4.428006287460357, variance=85.51885444687133, skewness=0.19516644941537142, kurtosis=0.11052532473845478)\n"
     ]
    },
    {
     "data": {
      "image/png": "[encoded data removed]",
      "text/plain": [
       "<Figure size 432x288 with 1 Axes>"
      ]
     },
     "metadata": {
      "needs_background": "light"
     },
     "output_type": "display_data"
    }
   ],
   "source": [
    "from scipy import stats\n",
    "\n",
    "print(\"Decision variable: \" + column_names[U])\n",
    "\n",
    "print(\"train_delta_ys\")\n",
    "plt.hist(train_delta_ys)\n",
    "print(stats.describe(train_delta_ys))\n",
    "plt.show()\n",
    "\n",
    "print(\"test_delta_ys\")\n",
    "plt.hist(test_delta_ys)\n",
    "print(stats.describe(test_delta_ys))\n",
    "plt.show()"
   ]
  },
  {
   "cell_type": "code",
   "execution_count": null,
   "metadata": {},
   "outputs": [],
   "source": []
  }
 ],
 "metadata": {
  "kernelspec": {
   "display_name": "Python 3",
   "language": "python",
   "name": "python3"
  },
  "language_info": {
   "codemirror_mode": {
    "name": "ipython",
    "version": 3
   },
   "file_extension": ".py",
   "mimetype": "text/x-python",
   "name": "python",
   "nbconvert_exporter": "python",
   "pygments_lexer": "ipython3",
   "version": "3.8.2"
  }
 },
 "nbformat": 4,
 "nbformat_minor": 4
}
